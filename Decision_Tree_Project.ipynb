{
  "cells": [
    {
      "cell_type": "code",
      "execution_count": 2,
      "metadata": {
        "id": "XR9tUDA4aps_"
      },
      "outputs": [],
      "source": [
        "# imports here\n",
        "import numpy as np\n",
        "import seaborn as sns\n",
        "import pandas as pd\n",
        "from sklearn.tree import DecisionTreeClassifier, plot_tree,export_graphviz\n",
        "from sklearn.metrics import accuracy_score\n",
        "import matplotlib.pyplot as plt\n",
        "from sklearn.preprocessing import LabelEncoder\n",
        "from sklearn.model_selection import train_test_split"
      ]
    },
    {
      "attachments": {},
      "cell_type": "markdown",
      "metadata": {
        "id": "dw3WJYd-kTlM"
      },
      "source": [
        "**DATA PREPROCESSING**"
      ]
    },
    {
      "cell_type": "code",
      "execution_count": 20,
      "metadata": {
        "colab": {
          "base_uri": "https://localhost:8080/",
          "height": 206
        },
        "id": "e4hCd2_GbT1k",
        "outputId": "dc4f4361-eef6-4e9d-b906-8c69d84b6801"
      },
      "outputs": [
        {
          "data": {
            "text/html": [
              "\n",
              "  <div id=\"df-d2764680-1054-428b-a044-a075abc37c57\">\n",
              "    <div class=\"colab-df-container\">\n",
              "      <div>\n",
              "<style scoped>\n",
              "    .dataframe tbody tr th:only-of-type {\n",
              "        vertical-align: middle;\n",
              "    }\n",
              "\n",
              "    .dataframe tbody tr th {\n",
              "        vertical-align: top;\n",
              "    }\n",
              "\n",
              "    .dataframe thead th {\n",
              "        text-align: right;\n",
              "    }\n",
              "</style>\n",
              "<table border=\"1\" class=\"dataframe\">\n",
              "  <thead>\n",
              "    <tr style=\"text-align: right;\">\n",
              "      <th></th>\n",
              "      <th>PassengerId</th>\n",
              "      <th>Survived</th>\n",
              "      <th>Pclass</th>\n",
              "      <th>Name</th>\n",
              "      <th>Sex</th>\n",
              "      <th>Age</th>\n",
              "      <th>SibSp</th>\n",
              "      <th>Parch</th>\n",
              "      <th>Ticket</th>\n",
              "      <th>Fare</th>\n",
              "      <th>Cabin</th>\n",
              "      <th>Embarked</th>\n",
              "    </tr>\n",
              "  </thead>\n",
              "  <tbody>\n",
              "    <tr>\n",
              "      <th>0</th>\n",
              "      <td>892</td>\n",
              "      <td>0</td>\n",
              "      <td>3</td>\n",
              "      <td>Kelly, Mr. James</td>\n",
              "      <td>male</td>\n",
              "      <td>34.5</td>\n",
              "      <td>0</td>\n",
              "      <td>0</td>\n",
              "      <td>330911</td>\n",
              "      <td>7.8292</td>\n",
              "      <td>NaN</td>\n",
              "      <td>Q</td>\n",
              "    </tr>\n",
              "    <tr>\n",
              "      <th>1</th>\n",
              "      <td>893</td>\n",
              "      <td>1</td>\n",
              "      <td>3</td>\n",
              "      <td>Wilkes, Mrs. James (Ellen Needs)</td>\n",
              "      <td>female</td>\n",
              "      <td>47.0</td>\n",
              "      <td>1</td>\n",
              "      <td>0</td>\n",
              "      <td>363272</td>\n",
              "      <td>7.0000</td>\n",
              "      <td>NaN</td>\n",
              "      <td>S</td>\n",
              "    </tr>\n",
              "    <tr>\n",
              "      <th>2</th>\n",
              "      <td>894</td>\n",
              "      <td>0</td>\n",
              "      <td>2</td>\n",
              "      <td>Myles, Mr. Thomas Francis</td>\n",
              "      <td>male</td>\n",
              "      <td>62.0</td>\n",
              "      <td>0</td>\n",
              "      <td>0</td>\n",
              "      <td>240276</td>\n",
              "      <td>9.6875</td>\n",
              "      <td>NaN</td>\n",
              "      <td>Q</td>\n",
              "    </tr>\n",
              "    <tr>\n",
              "      <th>3</th>\n",
              "      <td>895</td>\n",
              "      <td>0</td>\n",
              "      <td>3</td>\n",
              "      <td>Wirz, Mr. Albert</td>\n",
              "      <td>male</td>\n",
              "      <td>27.0</td>\n",
              "      <td>0</td>\n",
              "      <td>0</td>\n",
              "      <td>315154</td>\n",
              "      <td>8.6625</td>\n",
              "      <td>NaN</td>\n",
              "      <td>S</td>\n",
              "    </tr>\n",
              "    <tr>\n",
              "      <th>4</th>\n",
              "      <td>896</td>\n",
              "      <td>1</td>\n",
              "      <td>3</td>\n",
              "      <td>Hirvonen, Mrs. Alexander (Helga E Lindqvist)</td>\n",
              "      <td>female</td>\n",
              "      <td>22.0</td>\n",
              "      <td>1</td>\n",
              "      <td>1</td>\n",
              "      <td>3101298</td>\n",
              "      <td>12.2875</td>\n",
              "      <td>NaN</td>\n",
              "      <td>S</td>\n",
              "    </tr>\n",
              "  </tbody>\n",
              "</table>\n",
              "</div>\n",
              "      <button class=\"colab-df-convert\" onclick=\"convertToInteractive('df-d2764680-1054-428b-a044-a075abc37c57')\"\n",
              "              title=\"Convert this dataframe to an interactive table.\"\n",
              "              style=\"display:none;\">\n",
              "        \n",
              "  <svg xmlns=\"http://www.w3.org/2000/svg\" height=\"24px\"viewBox=\"0 0 24 24\"\n",
              "       width=\"24px\">\n",
              "    <path d=\"M0 0h24v24H0V0z\" fill=\"none\"/>\n",
              "    <path d=\"M18.56 5.44l.94 2.06.94-2.06 2.06-.94-2.06-.94-.94-2.06-.94 2.06-2.06.94zm-11 1L8.5 8.5l.94-2.06 2.06-.94-2.06-.94L8.5 2.5l-.94 2.06-2.06.94zm10 10l.94 2.06.94-2.06 2.06-.94-2.06-.94-.94-2.06-.94 2.06-2.06.94z\"/><path d=\"M17.41 7.96l-1.37-1.37c-.4-.4-.92-.59-1.43-.59-.52 0-1.04.2-1.43.59L10.3 9.45l-7.72 7.72c-.78.78-.78 2.05 0 2.83L4 21.41c.39.39.9.59 1.41.59.51 0 1.02-.2 1.41-.59l7.78-7.78 2.81-2.81c.8-.78.8-2.07 0-2.86zM5.41 20L4 18.59l7.72-7.72 1.47 1.35L5.41 20z\"/>\n",
              "  </svg>\n",
              "      </button>\n",
              "      \n",
              "  <style>\n",
              "    .colab-df-container {\n",
              "      display:flex;\n",
              "      flex-wrap:wrap;\n",
              "      gap: 12px;\n",
              "    }\n",
              "\n",
              "    .colab-df-convert {\n",
              "      background-color: #E8F0FE;\n",
              "      border: none;\n",
              "      border-radius: 50%;\n",
              "      cursor: pointer;\n",
              "      display: none;\n",
              "      fill: #1967D2;\n",
              "      height: 32px;\n",
              "      padding: 0 0 0 0;\n",
              "      width: 32px;\n",
              "    }\n",
              "\n",
              "    .colab-df-convert:hover {\n",
              "      background-color: #E2EBFA;\n",
              "      box-shadow: 0px 1px 2px rgba(60, 64, 67, 0.3), 0px 1px 3px 1px rgba(60, 64, 67, 0.15);\n",
              "      fill: #174EA6;\n",
              "    }\n",
              "\n",
              "    [theme=dark] .colab-df-convert {\n",
              "      background-color: #3B4455;\n",
              "      fill: #D2E3FC;\n",
              "    }\n",
              "\n",
              "    [theme=dark] .colab-df-convert:hover {\n",
              "      background-color: #434B5C;\n",
              "      box-shadow: 0px 1px 3px 1px rgba(0, 0, 0, 0.15);\n",
              "      filter: drop-shadow(0px 1px 2px rgba(0, 0, 0, 0.3));\n",
              "      fill: #FFFFFF;\n",
              "    }\n",
              "  </style>\n",
              "\n",
              "      <script>\n",
              "        const buttonEl =\n",
              "          document.querySelector('#df-d2764680-1054-428b-a044-a075abc37c57 button.colab-df-convert');\n",
              "        buttonEl.style.display =\n",
              "          google.colab.kernel.accessAllowed ? 'block' : 'none';\n",
              "\n",
              "        async function convertToInteractive(key) {\n",
              "          const element = document.querySelector('#df-d2764680-1054-428b-a044-a075abc37c57');\n",
              "          const dataTable =\n",
              "            await google.colab.kernel.invokeFunction('convertToInteractive',\n",
              "                                                     [key], {});\n",
              "          if (!dataTable) return;\n",
              "\n",
              "          const docLinkHtml = 'Like what you see? Visit the ' +\n",
              "            '<a target=\"_blank\" href=https://colab.research.google.com/notebooks/data_table.ipynb>data table notebook</a>'\n",
              "            + ' to learn more about interactive tables.';\n",
              "          element.innerHTML = '';\n",
              "          dataTable['output_type'] = 'display_data';\n",
              "          await google.colab.output.renderOutput(dataTable, element);\n",
              "          const docLink = document.createElement('div');\n",
              "          docLink.innerHTML = docLinkHtml;\n",
              "          element.appendChild(docLink);\n",
              "        }\n",
              "      </script>\n",
              "    </div>\n",
              "  </div>\n",
              "  "
            ],
            "text/plain": [
              "   PassengerId  Survived  Pclass  \\\n",
              "0          892         0       3   \n",
              "1          893         1       3   \n",
              "2          894         0       2   \n",
              "3          895         0       3   \n",
              "4          896         1       3   \n",
              "\n",
              "                                           Name     Sex   Age  SibSp  Parch  \\\n",
              "0                              Kelly, Mr. James    male  34.5      0      0   \n",
              "1              Wilkes, Mrs. James (Ellen Needs)  female  47.0      1      0   \n",
              "2                     Myles, Mr. Thomas Francis    male  62.0      0      0   \n",
              "3                              Wirz, Mr. Albert    male  27.0      0      0   \n",
              "4  Hirvonen, Mrs. Alexander (Helga E Lindqvist)  female  22.0      1      1   \n",
              "\n",
              "    Ticket     Fare Cabin Embarked  \n",
              "0   330911   7.8292   NaN        Q  \n",
              "1   363272   7.0000   NaN        S  \n",
              "2   240276   9.6875   NaN        Q  \n",
              "3   315154   8.6625   NaN        S  \n",
              "4  3101298  12.2875   NaN        S  "
            ]
          },
          "execution_count": 20,
          "metadata": {},
          "output_type": "execute_result"
        }
      ],
      "source": [
        "df = pd.read_csv('/content/drive/MyDrive/titanic.csv')\n",
        "df.head()"
      ]
    },
    {
      "cell_type": "code",
      "execution_count": 21,
      "metadata": {
        "colab": {
          "base_uri": "https://localhost:8080/"
        },
        "id": "fn511l5Ob1H7",
        "outputId": "8e10d90d-18a8-4118-fda0-12e27d97c261"
      },
      "outputs": [
        {
          "data": {
            "text/plain": [
              "PassengerId      0\n",
              "Survived         0\n",
              "Pclass           0\n",
              "Name             0\n",
              "Sex              0\n",
              "Age             86\n",
              "SibSp            0\n",
              "Parch            0\n",
              "Ticket           0\n",
              "Fare             1\n",
              "Cabin          327\n",
              "Embarked         0\n",
              "dtype: int64"
            ]
          },
          "execution_count": 21,
          "metadata": {},
          "output_type": "execute_result"
        }
      ],
      "source": [
        "df.isna().sum()"
      ]
    },
    {
      "cell_type": "code",
      "execution_count": 22,
      "metadata": {
        "colab": {
          "base_uri": "https://localhost:8080/"
        },
        "id": "Lp2n6-lXcMQ6",
        "outputId": "d2618218-843e-442a-d659-fa3faaab7905"
      },
      "outputs": [
        {
          "name": "stdout",
          "output_type": "stream",
          "text": [
            "<class 'pandas.core.frame.DataFrame'>\n",
            "RangeIndex: 418 entries, 0 to 417\n",
            "Data columns (total 12 columns):\n",
            " #   Column       Non-Null Count  Dtype  \n",
            "---  ------       --------------  -----  \n",
            " 0   PassengerId  418 non-null    int64  \n",
            " 1   Survived     418 non-null    int64  \n",
            " 2   Pclass       418 non-null    int64  \n",
            " 3   Name         418 non-null    object \n",
            " 4   Sex          418 non-null    object \n",
            " 5   Age          332 non-null    float64\n",
            " 6   SibSp        418 non-null    int64  \n",
            " 7   Parch        418 non-null    int64  \n",
            " 8   Ticket       418 non-null    object \n",
            " 9   Fare         417 non-null    float64\n",
            " 10  Cabin        91 non-null     object \n",
            " 11  Embarked     418 non-null    object \n",
            "dtypes: float64(2), int64(5), object(5)\n",
            "memory usage: 39.3+ KB\n"
          ]
        }
      ],
      "source": [
        "df.info()"
      ]
    },
    {
      "cell_type": "code",
      "execution_count": 23,
      "metadata": {
        "id": "bGiS3lr5csqT"
      },
      "outputs": [],
      "source": [
        "# drop duplicates and update the dataframe\n",
        "df.drop_duplicates(inplace=True)\n"
      ]
    },
    {
      "cell_type": "code",
      "execution_count": 24,
      "metadata": {
        "colab": {
          "base_uri": "https://localhost:8080/"
        },
        "id": "xjhfqNmYcxtc",
        "outputId": "730c0010-f025-4fa3-ec9a-4fc7dd413a00"
      },
      "outputs": [
        {
          "data": {
            "text/plain": [
              "False"
            ]
          },
          "execution_count": 24,
          "metadata": {},
          "output_type": "execute_result"
        }
      ],
      "source": [
        "df.duplicated().any()"
      ]
    },
    {
      "cell_type": "code",
      "execution_count": 25,
      "metadata": {
        "colab": {
          "base_uri": "https://localhost:8080/"
        },
        "id": "boD9j7KHduus",
        "outputId": "05a0b577-92bc-480a-80c5-7a62760347d1"
      },
      "outputs": [
        {
          "data": {
            "text/plain": [
              "B57 B59 B63 B66    3\n",
              "B45                2\n",
              "C89                2\n",
              "C55 C57            2\n",
              "A34                2\n",
              "                  ..\n",
              "E52                1\n",
              "D30                1\n",
              "E31                1\n",
              "C62 C64            1\n",
              "C105               1\n",
              "Name: Cabin, Length: 76, dtype: int64"
            ]
          },
          "execution_count": 25,
          "metadata": {},
          "output_type": "execute_result"
        }
      ],
      "source": [
        "df.Cabin.value_counts()"
      ]
    },
    {
      "cell_type": "code",
      "execution_count": 26,
      "metadata": {
        "id": "mZME96yweArI"
      },
      "outputs": [],
      "source": [
        "#Filling missing values in Cabin column with 'B57 B59 B63 B66'\n",
        "df.Cabin = df.Cabin.fillna('B57 B59 B63 B66')"
      ]
    },
    {
      "cell_type": "code",
      "execution_count": 27,
      "metadata": {
        "colab": {
          "base_uri": "https://localhost:8080/"
        },
        "id": "DJXSqpAZeW5s",
        "outputId": "8d24935d-0df1-46a7-dc4b-7b7f0d91d962"
      },
      "outputs": [
        {
          "data": {
            "text/plain": [
              "21.0    17\n",
              "24.0    17\n",
              "22.0    16\n",
              "30.0    15\n",
              "18.0    13\n",
              "        ..\n",
              "76.0     1\n",
              "28.5     1\n",
              "22.5     1\n",
              "62.0     1\n",
              "38.5     1\n",
              "Name: Age, Length: 79, dtype: int64"
            ]
          },
          "execution_count": 27,
          "metadata": {},
          "output_type": "execute_result"
        }
      ],
      "source": [
        "df.Age.value_counts()"
      ]
    },
    {
      "cell_type": "code",
      "execution_count": 28,
      "metadata": {
        "id": "GVLZM07weqcK"
      },
      "outputs": [],
      "source": [
        "df.Age = df.Age.fillna('21')"
      ]
    },
    {
      "cell_type": "code",
      "execution_count": 29,
      "metadata": {
        "id": "GNjnyhvzjNAe"
      },
      "outputs": [],
      "source": [
        "#creating  object of labelEncoder\n",
        "Age = LabelEncoder()\n",
        "Ticket = LabelEncoder()\n",
        "Fare = LabelEncoder()"
      ]
    },
    {
      "cell_type": "code",
      "execution_count": 30,
      "metadata": {
        "id": "f_7r7_6te9l8"
      },
      "outputs": [],
      "source": [
        "#converting data types of age,ticket\n",
        "df['Age'] = Age.fit_transform(df['Age'].astype(str))\n",
        "df['Ticket'] = Ticket.fit_transform(df['Ticket'])\n",
        "df['Fare'] = Fare.fit_transform(df['Fare'])\n",
        "\n"
      ]
    },
    {
      "cell_type": "code",
      "execution_count": 31,
      "metadata": {
        "colab": {
          "base_uri": "https://localhost:8080/"
        },
        "id": "dUYoZ1oG0JoI",
        "outputId": "0d678342-4188-4e31-8fc9-06ce8cd25e6b"
      },
      "outputs": [
        {
          "data": {
            "text/plain": [
              "0      40\n",
              "1      56\n",
              "2      72\n",
              "3      29\n",
              "4      22\n",
              "       ..\n",
              "413    20\n",
              "414    47\n",
              "415    46\n",
              "416    20\n",
              "417    20\n",
              "Name: Age, Length: 418, dtype: int64"
            ]
          },
          "execution_count": 31,
          "metadata": {},
          "output_type": "execute_result"
        }
      ],
      "source": [
        "df.Age.astype(int)"
      ]
    },
    {
      "cell_type": "code",
      "execution_count": 32,
      "metadata": {
        "colab": {
          "base_uri": "https://localhost:8080/"
        },
        "id": "od8DnwtdjkDf",
        "outputId": "b45a3508-cc4f-4eda-eea5-429396581322"
      },
      "outputs": [
        {
          "data": {
            "text/plain": [
              "19     21\n",
              "93     19\n",
              "31     17\n",
              "50     17\n",
              "42     11\n",
              "       ..\n",
              "35      1\n",
              "23      1\n",
              "33      1\n",
              "146     1\n",
              "84      1\n",
              "Name: Fare, Length: 170, dtype: int64"
            ]
          },
          "execution_count": 32,
          "metadata": {},
          "output_type": "execute_result"
        }
      ],
      "source": [
        "df.Fare.value_counts()"
      ]
    },
    {
      "cell_type": "code",
      "execution_count": 33,
      "metadata": {
        "id": "ABIvhaSie7dc"
      },
      "outputs": [],
      "source": [
        "df.Fare = df.Fare.fillna('7')"
      ]
    },
    {
      "cell_type": "code",
      "execution_count": 34,
      "metadata": {
        "colab": {
          "base_uri": "https://localhost:8080/"
        },
        "id": "E6OQ62Q7kCmF",
        "outputId": "71720eac-540f-41a4-8431-ff057f73712c"
      },
      "outputs": [
        {
          "data": {
            "text/plain": [
              "PassengerId    0\n",
              "Survived       0\n",
              "Pclass         0\n",
              "Name           0\n",
              "Sex            0\n",
              "Age            0\n",
              "SibSp          0\n",
              "Parch          0\n",
              "Ticket         0\n",
              "Fare           0\n",
              "Cabin          0\n",
              "Embarked       0\n",
              "dtype: int64"
            ]
          },
          "execution_count": 34,
          "metadata": {},
          "output_type": "execute_result"
        }
      ],
      "source": [
        "df.isna().sum()"
      ]
    },
    {
      "cell_type": "code",
      "execution_count": 35,
      "metadata": {
        "colab": {
          "base_uri": "https://localhost:8080/"
        },
        "id": "VnGsTEocHwjb",
        "outputId": "85aea606-36ca-46a4-b6f8-5fe2b4205fda"
      },
      "outputs": [
        {
          "name": "stdout",
          "output_type": "stream",
          "text": [
            "<class 'pandas.core.frame.DataFrame'>\n",
            "Int64Index: 418 entries, 0 to 417\n",
            "Data columns (total 12 columns):\n",
            " #   Column       Non-Null Count  Dtype \n",
            "---  ------       --------------  ----- \n",
            " 0   PassengerId  418 non-null    int64 \n",
            " 1   Survived     418 non-null    int64 \n",
            " 2   Pclass       418 non-null    int64 \n",
            " 3   Name         418 non-null    object\n",
            " 4   Sex          418 non-null    object\n",
            " 5   Age          418 non-null    int64 \n",
            " 6   SibSp        418 non-null    int64 \n",
            " 7   Parch        418 non-null    int64 \n",
            " 8   Ticket       418 non-null    int64 \n",
            " 9   Fare         418 non-null    int64 \n",
            " 10  Cabin        418 non-null    object\n",
            " 11  Embarked     418 non-null    object\n",
            "dtypes: int64(8), object(4)\n",
            "memory usage: 42.5+ KB\n"
          ]
        }
      ],
      "source": [
        "df.info()"
      ]
    },
    {
      "cell_type": "code",
      "execution_count": 36,
      "metadata": {
        "id": "SKG49ts5lHuH"
      },
      "outputs": [],
      "source": [
        "#Drop the 'Name','Sex','Cabin','Embarked' Column\n",
        "to_drop = ['Name', 'Sex','Cabin','Embarked']\n",
        "\n",
        "df = df.drop(to_drop, axis=1)"
      ]
    },
    {
      "cell_type": "code",
      "execution_count": 37,
      "metadata": {
        "colab": {
          "base_uri": "https://localhost:8080/",
          "height": 300
        },
        "id": "vP39t-F0kGxH",
        "outputId": "960bf8d4-095b-4dc8-fbbc-f2860aceb6d1"
      },
      "outputs": [
        {
          "data": {
            "text/html": [
              "\n",
              "  <div id=\"df-af673d50-679c-4940-a1a0-6414b6cffff7\">\n",
              "    <div class=\"colab-df-container\">\n",
              "      <div>\n",
              "<style scoped>\n",
              "    .dataframe tbody tr th:only-of-type {\n",
              "        vertical-align: middle;\n",
              "    }\n",
              "\n",
              "    .dataframe tbody tr th {\n",
              "        vertical-align: top;\n",
              "    }\n",
              "\n",
              "    .dataframe thead th {\n",
              "        text-align: right;\n",
              "    }\n",
              "</style>\n",
              "<table border=\"1\" class=\"dataframe\">\n",
              "  <thead>\n",
              "    <tr style=\"text-align: right;\">\n",
              "      <th></th>\n",
              "      <th>PassengerId</th>\n",
              "      <th>Survived</th>\n",
              "      <th>Pclass</th>\n",
              "      <th>Age</th>\n",
              "      <th>SibSp</th>\n",
              "      <th>Parch</th>\n",
              "      <th>Ticket</th>\n",
              "      <th>Fare</th>\n",
              "    </tr>\n",
              "  </thead>\n",
              "  <tbody>\n",
              "    <tr>\n",
              "      <th>count</th>\n",
              "      <td>418.000000</td>\n",
              "      <td>418.000000</td>\n",
              "      <td>418.000000</td>\n",
              "      <td>418.000000</td>\n",
              "      <td>418.000000</td>\n",
              "      <td>418.000000</td>\n",
              "      <td>418.000000</td>\n",
              "      <td>418.000000</td>\n",
              "    </tr>\n",
              "    <tr>\n",
              "      <th>mean</th>\n",
              "      <td>1100.500000</td>\n",
              "      <td>0.363636</td>\n",
              "      <td>2.265550</td>\n",
              "      <td>32.311005</td>\n",
              "      <td>0.447368</td>\n",
              "      <td>0.392344</td>\n",
              "      <td>180.944976</td>\n",
              "      <td>70.373206</td>\n",
              "    </tr>\n",
              "    <tr>\n",
              "      <th>std</th>\n",
              "      <td>120.810458</td>\n",
              "      <td>0.481622</td>\n",
              "      <td>0.841838</td>\n",
              "      <td>17.414372</td>\n",
              "      <td>0.896760</td>\n",
              "      <td>0.981429</td>\n",
              "      <td>107.533763</td>\n",
              "      <td>48.971283</td>\n",
              "    </tr>\n",
              "    <tr>\n",
              "      <th>min</th>\n",
              "      <td>892.000000</td>\n",
              "      <td>0.000000</td>\n",
              "      <td>1.000000</td>\n",
              "      <td>0.000000</td>\n",
              "      <td>0.000000</td>\n",
              "      <td>0.000000</td>\n",
              "      <td>0.000000</td>\n",
              "      <td>0.000000</td>\n",
              "    </tr>\n",
              "    <tr>\n",
              "      <th>25%</th>\n",
              "      <td>996.250000</td>\n",
              "      <td>0.000000</td>\n",
              "      <td>1.000000</td>\n",
              "      <td>20.000000</td>\n",
              "      <td>0.000000</td>\n",
              "      <td>0.000000</td>\n",
              "      <td>85.250000</td>\n",
              "      <td>29.000000</td>\n",
              "    </tr>\n",
              "    <tr>\n",
              "      <th>50%</th>\n",
              "      <td>1100.500000</td>\n",
              "      <td>0.000000</td>\n",
              "      <td>3.000000</td>\n",
              "      <td>26.000000</td>\n",
              "      <td>0.000000</td>\n",
              "      <td>0.000000</td>\n",
              "      <td>181.000000</td>\n",
              "      <td>59.000000</td>\n",
              "    </tr>\n",
              "    <tr>\n",
              "      <th>75%</th>\n",
              "      <td>1204.750000</td>\n",
              "      <td>1.000000</td>\n",
              "      <td>3.000000</td>\n",
              "      <td>42.750000</td>\n",
              "      <td>1.000000</td>\n",
              "      <td>0.000000</td>\n",
              "      <td>279.750000</td>\n",
              "      <td>106.000000</td>\n",
              "    </tr>\n",
              "    <tr>\n",
              "      <th>max</th>\n",
              "      <td>1309.000000</td>\n",
              "      <td>1.000000</td>\n",
              "      <td>3.000000</td>\n",
              "      <td>79.000000</td>\n",
              "      <td>8.000000</td>\n",
              "      <td>9.000000</td>\n",
              "      <td>362.000000</td>\n",
              "      <td>169.000000</td>\n",
              "    </tr>\n",
              "  </tbody>\n",
              "</table>\n",
              "</div>\n",
              "      <button class=\"colab-df-convert\" onclick=\"convertToInteractive('df-af673d50-679c-4940-a1a0-6414b6cffff7')\"\n",
              "              title=\"Convert this dataframe to an interactive table.\"\n",
              "              style=\"display:none;\">\n",
              "        \n",
              "  <svg xmlns=\"http://www.w3.org/2000/svg\" height=\"24px\"viewBox=\"0 0 24 24\"\n",
              "       width=\"24px\">\n",
              "    <path d=\"M0 0h24v24H0V0z\" fill=\"none\"/>\n",
              "    <path d=\"M18.56 5.44l.94 2.06.94-2.06 2.06-.94-2.06-.94-.94-2.06-.94 2.06-2.06.94zm-11 1L8.5 8.5l.94-2.06 2.06-.94-2.06-.94L8.5 2.5l-.94 2.06-2.06.94zm10 10l.94 2.06.94-2.06 2.06-.94-2.06-.94-.94-2.06-.94 2.06-2.06.94z\"/><path d=\"M17.41 7.96l-1.37-1.37c-.4-.4-.92-.59-1.43-.59-.52 0-1.04.2-1.43.59L10.3 9.45l-7.72 7.72c-.78.78-.78 2.05 0 2.83L4 21.41c.39.39.9.59 1.41.59.51 0 1.02-.2 1.41-.59l7.78-7.78 2.81-2.81c.8-.78.8-2.07 0-2.86zM5.41 20L4 18.59l7.72-7.72 1.47 1.35L5.41 20z\"/>\n",
              "  </svg>\n",
              "      </button>\n",
              "      \n",
              "  <style>\n",
              "    .colab-df-container {\n",
              "      display:flex;\n",
              "      flex-wrap:wrap;\n",
              "      gap: 12px;\n",
              "    }\n",
              "\n",
              "    .colab-df-convert {\n",
              "      background-color: #E8F0FE;\n",
              "      border: none;\n",
              "      border-radius: 50%;\n",
              "      cursor: pointer;\n",
              "      display: none;\n",
              "      fill: #1967D2;\n",
              "      height: 32px;\n",
              "      padding: 0 0 0 0;\n",
              "      width: 32px;\n",
              "    }\n",
              "\n",
              "    .colab-df-convert:hover {\n",
              "      background-color: #E2EBFA;\n",
              "      box-shadow: 0px 1px 2px rgba(60, 64, 67, 0.3), 0px 1px 3px 1px rgba(60, 64, 67, 0.15);\n",
              "      fill: #174EA6;\n",
              "    }\n",
              "\n",
              "    [theme=dark] .colab-df-convert {\n",
              "      background-color: #3B4455;\n",
              "      fill: #D2E3FC;\n",
              "    }\n",
              "\n",
              "    [theme=dark] .colab-df-convert:hover {\n",
              "      background-color: #434B5C;\n",
              "      box-shadow: 0px 1px 3px 1px rgba(0, 0, 0, 0.15);\n",
              "      filter: drop-shadow(0px 1px 2px rgba(0, 0, 0, 0.3));\n",
              "      fill: #FFFFFF;\n",
              "    }\n",
              "  </style>\n",
              "\n",
              "      <script>\n",
              "        const buttonEl =\n",
              "          document.querySelector('#df-af673d50-679c-4940-a1a0-6414b6cffff7 button.colab-df-convert');\n",
              "        buttonEl.style.display =\n",
              "          google.colab.kernel.accessAllowed ? 'block' : 'none';\n",
              "\n",
              "        async function convertToInteractive(key) {\n",
              "          const element = document.querySelector('#df-af673d50-679c-4940-a1a0-6414b6cffff7');\n",
              "          const dataTable =\n",
              "            await google.colab.kernel.invokeFunction('convertToInteractive',\n",
              "                                                     [key], {});\n",
              "          if (!dataTable) return;\n",
              "\n",
              "          const docLinkHtml = 'Like what you see? Visit the ' +\n",
              "            '<a target=\"_blank\" href=https://colab.research.google.com/notebooks/data_table.ipynb>data table notebook</a>'\n",
              "            + ' to learn more about interactive tables.';\n",
              "          element.innerHTML = '';\n",
              "          dataTable['output_type'] = 'display_data';\n",
              "          await google.colab.output.renderOutput(dataTable, element);\n",
              "          const docLink = document.createElement('div');\n",
              "          docLink.innerHTML = docLinkHtml;\n",
              "          element.appendChild(docLink);\n",
              "        }\n",
              "      </script>\n",
              "    </div>\n",
              "  </div>\n",
              "  "
            ],
            "text/plain": [
              "       PassengerId    Survived      Pclass         Age       SibSp  \\\n",
              "count   418.000000  418.000000  418.000000  418.000000  418.000000   \n",
              "mean   1100.500000    0.363636    2.265550   32.311005    0.447368   \n",
              "std     120.810458    0.481622    0.841838   17.414372    0.896760   \n",
              "min     892.000000    0.000000    1.000000    0.000000    0.000000   \n",
              "25%     996.250000    0.000000    1.000000   20.000000    0.000000   \n",
              "50%    1100.500000    0.000000    3.000000   26.000000    0.000000   \n",
              "75%    1204.750000    1.000000    3.000000   42.750000    1.000000   \n",
              "max    1309.000000    1.000000    3.000000   79.000000    8.000000   \n",
              "\n",
              "            Parch      Ticket        Fare  \n",
              "count  418.000000  418.000000  418.000000  \n",
              "mean     0.392344  180.944976   70.373206  \n",
              "std      0.981429  107.533763   48.971283  \n",
              "min      0.000000    0.000000    0.000000  \n",
              "25%      0.000000   85.250000   29.000000  \n",
              "50%      0.000000  181.000000   59.000000  \n",
              "75%      0.000000  279.750000  106.000000  \n",
              "max      9.000000  362.000000  169.000000  "
            ]
          },
          "execution_count": 37,
          "metadata": {},
          "output_type": "execute_result"
        }
      ],
      "source": [
        "df.describe()"
      ]
    },
    {
      "cell_type": "code",
      "execution_count": 38,
      "metadata": {
        "colab": {
          "base_uri": "https://localhost:8080/",
          "height": 279
        },
        "id": "y-Ab-W6rltg8",
        "outputId": "bd4fc4d1-83d7-4e7f-85ce-c0f97b1e57f6"
      },
      "outputs": [
        {
          "data": {
            "image/png": "[encoded data removed]",
            "text/plain": [
              "<Figure size 432x288 with 1 Axes>"
            ]
          },
          "metadata": {
            "needs_background": "light"
          },
          "output_type": "display_data"
        }
      ],
      "source": [
        "plt.hist(df['Age'],edgecolor='blue', linewidth=1.0)\n",
        "plt.xlabel('Age')\n",
        "plt.ylabel('No. of Samples')\n",
        "plt.show()"
      ]
    },
    {
      "cell_type": "code",
      "execution_count": null,
      "metadata": {
        "colab": {
          "base_uri": "https://localhost:8080/"
        },
        "id": "Uk4qRlgok8Zx",
        "outputId": "d0201031-fe32-47c8-c74c-51cba670fc02"
      },
      "outputs": [
        {
          "name": "stdout",
          "output_type": "stream",
          "text": [
            "<class 'pandas.core.frame.DataFrame'>\n",
            "Int64Index: 418 entries, 0 to 417\n",
            "Data columns (total 8 columns):\n",
            " #   Column       Non-Null Count  Dtype\n",
            "---  ------       --------------  -----\n",
            " 0   PassengerId  418 non-null    int64\n",
            " 1   Survived     418 non-null    int64\n",
            " 2   Pclass       418 non-null    int64\n",
            " 3   Age          418 non-null    int64\n",
            " 4   SibSp        418 non-null    int64\n",
            " 5   Parch        418 non-null    int64\n",
            " 6   Ticket       418 non-null    int64\n",
            " 7   Fare         418 non-null    int64\n",
            "dtypes: int64(8)\n",
            "memory usage: 29.4 KB\n"
          ]
        }
      ],
      "source": [
        "df.info()"
      ]
    },
    {
      "attachments": {},
      "cell_type": "markdown",
      "metadata": {
        "id": "317rKYT43KnO"
      },
      "source": [
        "**SPLIT DATASET**"
      ]
    },
    {
      "cell_type": "code",
      "execution_count": 39,
      "metadata": {
        "id": "s1P-EnEK2WkI"
      },
      "outputs": [],
      "source": [
        "X, y = df.iloc[:, :-1], df.iloc[:, -1]\n",
        "X = X.astype('float')\n"
      ]
    },
    {
      "cell_type": "code",
      "execution_count": 40,
      "metadata": {
        "id": "T_x1isoI2zIc"
      },
      "outputs": [],
      "source": [
        "X_train , X_test , y_train , y_test = train_test_split(X,y , test_size = 0.30 , random_state = 0)"
      ]
    },
    {
      "attachments": {},
      "cell_type": "markdown",
      "metadata": {
        "id": "3bRmcYcxnkfL"
      },
      "source": [
        "## Decision Tree with criterion GINI index ##"
      ]
    },
    {
      "cell_type": "code",
      "execution_count": 41,
      "metadata": {
        "colab": {
          "base_uri": "https://localhost:8080/"
        },
        "id": "9-OZjqrP3Sbt",
        "outputId": "a01c6630-f13f-47eb-ae09-5854f422024a"
      },
      "outputs": [
        {
          "name": "stdout",
          "output_type": "stream",
          "text": [
            "Model accuracy score with criterion gini index: 0.1429\n"
          ]
        }
      ],
      "source": [
        "clf_gini = DecisionTreeClassifier(criterion='gini', max_depth=4, random_state=0)\n",
        "\n",
        "\n",
        "# fit the model\n",
        "clf_gini.fit(X_train, y_train)\n",
        "y_pred_gini = clf_gini.predict(X_test)\n",
        "\n",
        "#Check accuracy score with criterion gini index\n",
        "\n",
        "print('Model accuracy score with criterion gini index: {0:0.4f}'. format(accuracy_score(y_test, y_pred_gini)))"
      ]
    },
    {
      "cell_type": "code",
      "execution_count": 42,
      "metadata": {
        "colab": {
          "base_uri": "https://localhost:8080/"
        },
        "id": "hpIOGu6KmFHd",
        "outputId": "b564b9e2-0970-4bc3-a711-0f0cc7a403bf"
      },
      "outputs": [
        {
          "name": "stdout",
          "output_type": "stream",
          "text": [
            "Model accuracy score with criterion gini index: 0.3014\n"
          ]
        }
      ],
      "source": [
        "y_pred_train_gini = clf_gini.predict(X_train)\n",
        "\n",
        "y_pred_train_gini\n",
        "\n",
        "print('Model accuracy score with criterion gini index: {0:0.4f}'. format(accuracy_score(y_train, y_pred_train_gini)))"
      ]
    },
    {
      "cell_type": "code",
      "execution_count": null,
      "metadata": {
        "colab": {
          "base_uri": "https://localhost:8080/",
          "height": 1000
        },
        "id": "GvADbNF2mWSF",
        "outputId": "61a06458-e382-4a3d-ad09-aef7bba4cdcc"
      },
      "outputs": [
        {
          "data": {
            "text/plain": [
              "[Text(0.5267857142857143, 0.9, 'X[2] <= 2.5\\ngini = 0.982\\nsamples = 292\\nvalue = [2, 2, 1, 1, 1, 1, 7, 7, 4, 2, 1, 2, 1, 2\\n13, 10, 1, 4, 1, 1, 4, 5, 1, 6, 4, 14, 1, 5\\n1, 1, 1, 1, 2, 1, 8, 1, 2, 2, 1, 13, 1, 3\\n3, 1, 1, 1, 1, 2, 4, 1, 1, 1, 4, 2, 1, 1\\n1, 1, 3, 1, 1, 1, 2, 3, 1, 1, 2, 2, 2, 1\\n2, 1, 1, 1, 17, 5, 3, 1, 2, 1, 1, 2, 3, 1\\n2, 1, 1, 3, 1, 1, 1, 1, 1, 2, 1, 1, 1, 1\\n1, 1, 1, 2, 1, 1, 2, 2, 1, 2, 2, 1, 1, 2\\n1, 1, 1, 1, 2, 1, 1, 2, 1, 1, 1, 1, 1, 1\\n2, 1, 1, 1, 2, 1, 1]'),\n",
              " Text(0.2857142857142857, 0.7, 'X[2] <= 1.5\\ngini = 0.962\\nsamples = 136\\nvalue = [2, 0, 0, 0, 0, 0, 0, 0, 0, 0, 0, 0, 0, 0\\n0, 0, 0, 0, 0, 0, 0, 0, 0, 0, 0, 0, 0, 0\\n0, 0, 0, 0, 0, 1, 8, 1, 2, 2, 1, 13, 0, 3\\n0, 1, 1, 0, 0, 0, 0, 1, 1, 0, 0, 0, 0, 0\\n1, 1, 0, 0, 0, 0, 0, 3, 0, 0, 0, 0, 2, 0\\n0, 0, 1, 1, 17, 5, 3, 1, 2, 1, 1, 0, 3, 1\\n2, 0, 1, 3, 1, 1, 1, 1, 1, 0, 1, 1, 1, 1\\n1, 1, 1, 2, 0, 1, 2, 2, 1, 2, 0, 1, 1, 2\\n1, 1, 1, 1, 2, 1, 1, 2, 1, 1, 1, 1, 1, 1\\n2, 1, 1, 1, 2, 1, 0]'),\n",
              " Text(0.14285714285714285, 0.5, 'X[6] <= 21.5\\ngini = 0.97\\nsamples = 69\\nvalue = [2, 0, 0, 0, 0, 0, 0, 0, 0, 0, 0, 0, 0, 0\\n0, 0, 0, 0, 0, 0, 0, 0, 0, 0, 0, 0, 0, 0\\n0, 0, 0, 0, 0, 0, 0, 0, 0, 0, 0, 0, 0, 0\\n0, 0, 0, 0, 0, 0, 0, 0, 0, 0, 0, 0, 0, 0\\n0, 0, 0, 0, 0, 0, 0, 0, 0, 0, 0, 0, 0, 0\\n0, 0, 1, 1, 6, 5, 3, 1, 2, 0, 1, 0, 0, 1\\n0, 0, 0, 0, 1, 1, 0, 1, 1, 0, 1, 1, 1, 1\\n1, 1, 1, 2, 0, 1, 2, 2, 1, 0, 0, 1, 0, 2\\n1, 1, 1, 1, 2, 1, 1, 2, 1, 1, 1, 1, 1, 1\\n2, 1, 1, 1, 2, 1, 0]'),\n",
              " Text(0.07142857142857142, 0.3, 'X[6] <= 15.5\\ngini = 0.875\\nsamples = 20\\nvalue = [2, 0, 0, 0, 0, 0, 0, 0, 0, 0, 0, 0, 0, 0\\n0, 0, 0, 0, 0, 0, 0, 0, 0, 0, 0, 0, 0, 0\\n0, 0, 0, 0, 0, 0, 0, 0, 0, 0, 0, 0, 0, 0\\n0, 0, 0, 0, 0, 0, 0, 0, 0, 0, 0, 0, 0, 0\\n0, 0, 0, 0, 0, 0, 0, 0, 0, 0, 0, 0, 0, 0\\n0, 0, 0, 0, 3, 5, 1, 1, 0, 0, 1, 0, 0, 0\\n0, 0, 0, 0, 0, 0, 0, 0, 1, 0, 1, 0, 0, 0\\n0, 0, 1, 0, 0, 0, 2, 0, 0, 0, 0, 0, 0, 0\\n1, 0, 0, 0, 0, 0, 0, 0, 0, 0, 0, 0, 0, 1\\n0, 0, 0, 0, 0, 0, 0]'),\n",
              " Text(0.03571428571428571, 0.1, 'gini = 0.889\\nsamples = 15\\nvalue = [2, 0, 0, 0, 0, 0, 0, 0, 0, 0, 0, 0, 0, 0\\n0, 0, 0, 0, 0, 0, 0, 0, 0, 0, 0, 0, 0, 0\\n0, 0, 0, 0, 0, 0, 0, 0, 0, 0, 0, 0, 0, 0\\n0, 0, 0, 0, 0, 0, 0, 0, 0, 0, 0, 0, 0, 0\\n0, 0, 0, 0, 0, 0, 0, 0, 0, 0, 0, 0, 0, 0\\n0, 0, 0, 0, 3, 1, 1, 0, 0, 0, 1, 0, 0, 0\\n0, 0, 0, 0, 0, 0, 0, 0, 1, 0, 1, 0, 0, 0\\n0, 0, 1, 0, 0, 0, 2, 0, 0, 0, 0, 0, 0, 0\\n1, 0, 0, 0, 0, 0, 0, 0, 0, 0, 0, 0, 0, 1\\n0, 0, 0, 0, 0, 0, 0]'),\n",
              " Text(0.10714285714285714, 0.1, 'gini = 0.32\\nsamples = 5\\nvalue = [0, 0, 0, 0, 0, 0, 0, 0, 0, 0, 0, 0, 0, 0\\n0, 0, 0, 0, 0, 0, 0, 0, 0, 0, 0, 0, 0, 0\\n0, 0, 0, 0, 0, 0, 0, 0, 0, 0, 0, 0, 0, 0\\n0, 0, 0, 0, 0, 0, 0, 0, 0, 0, 0, 0, 0, 0\\n0, 0, 0, 0, 0, 0, 0, 0, 0, 0, 0, 0, 0, 0\\n0, 0, 0, 0, 0, 4, 0, 1, 0, 0, 0, 0, 0, 0\\n0, 0, 0, 0, 0, 0, 0, 0, 0, 0, 0, 0, 0, 0\\n0, 0, 0, 0, 0, 0, 0, 0, 0, 0, 0, 0, 0, 0\\n0, 0, 0, 0, 0, 0, 0, 0, 0, 0, 0, 0, 0, 0\\n0, 0, 0, 0, 0, 0, 0]'),\n",
              " Text(0.21428571428571427, 0.3, 'X[5] <= 0.5\\ngini = 0.97\\nsamples = 49\\nvalue = [0, 0, 0, 0, 0, 0, 0, 0, 0, 0, 0, 0, 0, 0\\n0, 0, 0, 0, 0, 0, 0, 0, 0, 0, 0, 0, 0, 0\\n0, 0, 0, 0, 0, 0, 0, 0, 0, 0, 0, 0, 0, 0\\n0, 0, 0, 0, 0, 0, 0, 0, 0, 0, 0, 0, 0, 0\\n0, 0, 0, 0, 0, 0, 0, 0, 0, 0, 0, 0, 0, 0\\n0, 0, 1, 1, 3, 0, 2, 0, 2, 0, 0, 0, 0, 1\\n0, 0, 0, 0, 1, 1, 0, 1, 0, 0, 0, 1, 1, 1\\n1, 1, 0, 2, 0, 1, 0, 2, 1, 0, 0, 1, 0, 2\\n0, 1, 1, 1, 2, 1, 1, 2, 1, 1, 1, 1, 1, 0\\n2, 1, 1, 1, 2, 1, 0]'),\n",
              " Text(0.17857142857142858, 0.1, 'gini = 0.958\\nsamples = 36\\nvalue = [0, 0, 0, 0, 0, 0, 0, 0, 0, 0, 0, 0, 0, 0\\n0, 0, 0, 0, 0, 0, 0, 0, 0, 0, 0, 0, 0, 0\\n0, 0, 0, 0, 0, 0, 0, 0, 0, 0, 0, 0, 0, 0\\n0, 0, 0, 0, 0, 0, 0, 0, 0, 0, 0, 0, 0, 0\\n0, 0, 0, 0, 0, 0, 0, 0, 0, 0, 0, 0, 0, 0\\n0, 0, 1, 1, 3, 0, 2, 0, 2, 0, 0, 0, 0, 1\\n0, 0, 0, 0, 0, 1, 0, 1, 0, 0, 0, 1, 1, 1\\n0, 1, 0, 2, 0, 1, 0, 2, 0, 0, 0, 1, 0, 2\\n0, 1, 1, 1, 0, 0, 1, 0, 1, 1, 1, 1, 1, 0\\n2, 1, 0, 0, 0, 0, 0]'),\n",
              " Text(0.25, 0.1, 'gini = 0.888\\nsamples = 13\\nvalue = [0, 0, 0, 0, 0, 0, 0, 0, 0, 0, 0, 0, 0, 0\\n0, 0, 0, 0, 0, 0, 0, 0, 0, 0, 0, 0, 0, 0\\n0, 0, 0, 0, 0, 0, 0, 0, 0, 0, 0, 0, 0, 0\\n0, 0, 0, 0, 0, 0, 0, 0, 0, 0, 0, 0, 0, 0\\n0, 0, 0, 0, 0, 0, 0, 0, 0, 0, 0, 0, 0, 0\\n0, 0, 0, 0, 0, 0, 0, 0, 0, 0, 0, 0, 0, 0\\n0, 0, 0, 0, 1, 0, 0, 0, 0, 0, 0, 0, 0, 0\\n1, 0, 0, 0, 0, 0, 0, 0, 1, 0, 0, 0, 0, 0\\n0, 0, 0, 0, 2, 1, 0, 2, 0, 0, 0, 0, 0, 0\\n0, 0, 1, 1, 2, 1, 0]'),\n",
              " Text(0.42857142857142855, 0.5, 'X[4] <= 0.5\\ngini = 0.906\\nsamples = 67\\nvalue = [0, 0, 0, 0, 0, 0, 0, 0, 0, 0, 0, 0, 0, 0\\n0, 0, 0, 0, 0, 0, 0, 0, 0, 0, 0, 0, 0, 0\\n0, 0, 0, 0, 0, 1, 8, 1, 2, 2, 1, 13, 0, 3\\n0, 1, 1, 0, 0, 0, 0, 1, 1, 0, 0, 0, 0, 0\\n1, 1, 0, 0, 0, 0, 0, 3, 0, 0, 0, 0, 2, 0\\n0, 0, 0, 0, 11, 0, 0, 0, 0, 1, 0, 0, 3, 0\\n2, 0, 1, 3, 0, 0, 1, 0, 0, 0, 0, 0, 0, 0\\n0, 0, 0, 0, 0, 0, 0, 0, 0, 2, 0, 0, 1, 0\\n0, 0, 0, 0, 0, 0, 0, 0, 0, 0, 0, 0, 0, 0\\n0, 0, 0, 0, 0, 0, 0]'),\n",
              " Text(0.35714285714285715, 0.3, 'X[6] <= 104.0\\ngini = 0.88\\nsamples = 45\\nvalue = [0, 0, 0, 0, 0, 0, 0, 0, 0, 0, 0, 0, 0, 0\\n0, 0, 0, 0, 0, 0, 0, 0, 0, 0, 0, 0, 0, 0\\n0, 0, 0, 0, 0, 1, 8, 1, 1, 2, 1, 12, 0, 3\\n0, 1, 1, 0, 0, 0, 0, 1, 1, 0, 0, 0, 0, 0\\n1, 1, 0, 0, 0, 0, 0, 1, 0, 0, 0, 0, 1, 0\\n0, 0, 0, 0, 1, 0, 0, 0, 0, 1, 0, 0, 1, 0\\n1, 0, 1, 2, 0, 0, 0, 0, 0, 0, 0, 0, 0, 0\\n0, 0, 0, 0, 0, 0, 0, 0, 0, 0, 0, 0, 1, 0\\n0, 0, 0, 0, 0, 0, 0, 0, 0, 0, 0, 0, 0, 0\\n0, 0, 0, 0, 0, 0, 0]'),\n",
              " Text(0.32142857142857145, 0.1, 'gini = 0.752\\nsamples = 22\\nvalue = [0, 0, 0, 0, 0, 0, 0, 0, 0, 0, 0, 0, 0, 0\\n0, 0, 0, 0, 0, 0, 0, 0, 0, 0, 0, 0, 0, 0\\n0, 0, 0, 0, 0, 1, 0, 1, 0, 2, 0, 10, 0, 3\\n0, 0, 0, 0, 0, 0, 0, 0, 1, 0, 0, 0, 0, 0\\n0, 1, 0, 0, 0, 0, 0, 0, 0, 0, 0, 0, 0, 0\\n0, 0, 0, 0, 1, 0, 0, 0, 0, 1, 0, 0, 0, 0\\n0, 0, 0, 1, 0, 0, 0, 0, 0, 0, 0, 0, 0, 0\\n0, 0, 0, 0, 0, 0, 0, 0, 0, 0, 0, 0, 0, 0\\n0, 0, 0, 0, 0, 0, 0, 0, 0, 0, 0, 0, 0, 0\\n0, 0, 0, 0, 0, 0, 0]'),\n",
              " Text(0.39285714285714285, 0.1, 'gini = 0.847\\nsamples = 23\\nvalue = [0, 0, 0, 0, 0, 0, 0, 0, 0, 0, 0, 0, 0, 0\\n0, 0, 0, 0, 0, 0, 0, 0, 0, 0, 0, 0, 0, 0\\n0, 0, 0, 0, 0, 0, 8, 0, 1, 0, 1, 2, 0, 0\\n0, 1, 1, 0, 0, 0, 0, 1, 0, 0, 0, 0, 0, 0\\n1, 0, 0, 0, 0, 0, 0, 1, 0, 0, 0, 0, 1, 0\\n0, 0, 0, 0, 0, 0, 0, 0, 0, 0, 0, 0, 1, 0\\n1, 0, 1, 1, 0, 0, 0, 0, 0, 0, 0, 0, 0, 0\\n0, 0, 0, 0, 0, 0, 0, 0, 0, 0, 0, 0, 1, 0\\n0, 0, 0, 0, 0, 0, 0, 0, 0, 0, 0, 0, 0, 0\\n0, 0, 0, 0, 0, 0, 0]'),\n",
              " Text(0.5, 0.3, 'X[0] <= 1169.5\\ngini = 0.756\\nsamples = 22\\nvalue = [0, 0, 0, 0, 0, 0, 0, 0, 0, 0, 0, 0, 0, 0\\n0, 0, 0, 0, 0, 0, 0, 0, 0, 0, 0, 0, 0, 0\\n0, 0, 0, 0, 0, 0, 0, 0, 1, 0, 0, 1, 0, 0\\n0, 0, 0, 0, 0, 0, 0, 0, 0, 0, 0, 0, 0, 0\\n0, 0, 0, 0, 0, 0, 0, 2, 0, 0, 0, 0, 1, 0\\n0, 0, 0, 0, 10, 0, 0, 0, 0, 0, 0, 0, 2, 0\\n1, 0, 0, 1, 0, 0, 1, 0, 0, 0, 0, 0, 0, 0\\n0, 0, 0, 0, 0, 0, 0, 0, 0, 2, 0, 0, 0, 0\\n0, 0, 0, 0, 0, 0, 0, 0, 0, 0, 0, 0, 0, 0\\n0, 0, 0, 0, 0, 0, 0]'),\n",
              " Text(0.4642857142857143, 0.1, 'gini = 0.469\\nsamples = 14\\nvalue = [0, 0, 0, 0, 0, 0, 0, 0, 0, 0, 0, 0, 0, 0\\n0, 0, 0, 0, 0, 0, 0, 0, 0, 0, 0, 0, 0, 0\\n0, 0, 0, 0, 0, 0, 0, 0, 0, 0, 0, 1, 0, 0\\n0, 0, 0, 0, 0, 0, 0, 0, 0, 0, 0, 0, 0, 0\\n0, 0, 0, 0, 0, 0, 0, 0, 0, 0, 0, 0, 1, 0\\n0, 0, 0, 0, 10, 0, 0, 0, 0, 0, 0, 0, 1, 0\\n1, 0, 0, 0, 0, 0, 0, 0, 0, 0, 0, 0, 0, 0\\n0, 0, 0, 0, 0, 0, 0, 0, 0, 0, 0, 0, 0, 0\\n0, 0, 0, 0, 0, 0, 0, 0, 0, 0, 0, 0, 0, 0\\n0, 0, 0, 0, 0, 0, 0]'),\n",
              " Text(0.5357142857142857, 0.1, 'gini = 0.812\\nsamples = 8\\nvalue = [0, 0, 0, 0, 0, 0, 0, 0, 0, 0, 0, 0, 0, 0\\n0, 0, 0, 0, 0, 0, 0, 0, 0, 0, 0, 0, 0, 0\\n0, 0, 0, 0, 0, 0, 0, 0, 1, 0, 0, 0, 0, 0\\n0, 0, 0, 0, 0, 0, 0, 0, 0, 0, 0, 0, 0, 0\\n0, 0, 0, 0, 0, 0, 0, 2, 0, 0, 0, 0, 0, 0\\n0, 0, 0, 0, 0, 0, 0, 0, 0, 0, 0, 0, 1, 0\\n0, 0, 0, 1, 0, 0, 1, 0, 0, 0, 0, 0, 0, 0\\n0, 0, 0, 0, 0, 0, 0, 0, 0, 2, 0, 0, 0, 0\\n0, 0, 0, 0, 0, 0, 0, 0, 0, 0, 0, 0, 0, 0\\n0, 0, 0, 0, 0, 0, 0]'),\n",
              " Text(0.7678571428571429, 0.7, 'X[6] <= 128.0\\ngini = 0.965\\nsamples = 156\\nvalue = [0, 2, 1, 1, 1, 1, 7, 7, 4, 2, 1, 2, 1, 2\\n13, 10, 1, 4, 1, 1, 4, 5, 1, 6, 4, 14, 1, 5\\n1, 1, 1, 1, 2, 0, 0, 0, 0, 0, 0, 0, 1, 0\\n3, 0, 0, 1, 1, 2, 4, 0, 0, 1, 4, 2, 1, 1\\n0, 0, 3, 1, 1, 1, 2, 0, 1, 1, 2, 2, 0, 1\\n2, 1, 0, 0, 0, 0, 0, 0, 0, 0, 0, 2, 0, 0\\n0, 1, 0, 0, 0, 0, 0, 0, 0, 2, 0, 0, 0, 0\\n0, 0, 0, 0, 1, 0, 0, 0, 0, 0, 2, 0, 0, 0\\n0, 0, 0, 0, 0, 0, 0, 0, 0, 0, 0, 0, 0, 0\\n0, 0, 0, 0, 0, 0, 1]'),\n",
              " Text(0.6785714285714286, 0.5, 'X[3] <= 61.0\\ngini = 0.826\\nsamples = 27\\nvalue = [0, 2, 0, 0, 0, 0, 7, 7, 0, 0, 0, 0, 0, 1\\n0, 0, 0, 0, 0, 0, 0, 0, 0, 0, 0, 0, 1, 0\\n0, 0, 0, 0, 0, 0, 0, 0, 0, 0, 0, 0, 0, 0\\n0, 0, 0, 0, 0, 2, 0, 0, 0, 0, 4, 0, 0, 1\\n0, 0, 0, 0, 0, 0, 0, 0, 0, 1, 0, 0, 0, 0\\n0, 0, 0, 0, 0, 0, 0, 0, 0, 0, 0, 0, 0, 0\\n0, 0, 0, 0, 0, 0, 0, 0, 0, 0, 0, 0, 0, 0\\n0, 0, 0, 0, 1, 0, 0, 0, 0, 0, 0, 0, 0, 0\\n0, 0, 0, 0, 0, 0, 0, 0, 0, 0, 0, 0, 0, 0\\n0, 0, 0, 0, 0, 0, 0]'),\n",
              " Text(0.6428571428571429, 0.3, 'X[4] <= 0.5\\ngini = 0.806\\nsamples = 24\\nvalue = [0, 2, 0, 0, 0, 0, 7, 7, 0, 0, 0, 0, 0, 1\\n0, 0, 0, 0, 0, 0, 0, 0, 0, 0, 0, 0, 1, 0\\n0, 0, 0, 0, 0, 0, 0, 0, 0, 0, 0, 0, 0, 0\\n0, 0, 0, 0, 0, 2, 0, 0, 0, 0, 1, 0, 0, 1\\n0, 0, 0, 0, 0, 0, 0, 0, 0, 1, 0, 0, 0, 0\\n0, 0, 0, 0, 0, 0, 0, 0, 0, 0, 0, 0, 0, 0\\n0, 0, 0, 0, 0, 0, 0, 0, 0, 0, 0, 0, 0, 0\\n0, 0, 0, 0, 1, 0, 0, 0, 0, 0, 0, 0, 0, 0\\n0, 0, 0, 0, 0, 0, 0, 0, 0, 0, 0, 0, 0, 0\\n0, 0, 0, 0, 0, 0, 0]'),\n",
              " Text(0.6071428571428571, 0.1, 'gini = 0.685\\nsamples = 18\\nvalue = [0, 1, 0, 0, 0, 0, 7, 7, 0, 0, 0, 0, 0, 1\\n0, 0, 0, 0, 0, 0, 0, 0, 0, 0, 0, 0, 0, 0\\n0, 0, 0, 0, 0, 0, 0, 0, 0, 0, 0, 0, 0, 0\\n0, 0, 0, 0, 0, 0, 0, 0, 0, 0, 1, 0, 0, 0\\n0, 0, 0, 0, 0, 0, 0, 0, 0, 0, 0, 0, 0, 0\\n0, 0, 0, 0, 0, 0, 0, 0, 0, 0, 0, 0, 0, 0\\n0, 0, 0, 0, 0, 0, 0, 0, 0, 0, 0, 0, 0, 0\\n0, 0, 0, 0, 1, 0, 0, 0, 0, 0, 0, 0, 0, 0\\n0, 0, 0, 0, 0, 0, 0, 0, 0, 0, 0, 0, 0, 0\\n0, 0, 0, 0, 0, 0, 0]'),\n",
              " Text(0.6785714285714286, 0.1, 'gini = 0.778\\nsamples = 6\\nvalue = [0, 1, 0, 0, 0, 0, 0, 0, 0, 0, 0, 0, 0, 0\\n0, 0, 0, 0, 0, 0, 0, 0, 0, 0, 0, 0, 1, 0\\n0, 0, 0, 0, 0, 0, 0, 0, 0, 0, 0, 0, 0, 0\\n0, 0, 0, 0, 0, 2, 0, 0, 0, 0, 0, 0, 0, 1\\n0, 0, 0, 0, 0, 0, 0, 0, 0, 1, 0, 0, 0, 0\\n0, 0, 0, 0, 0, 0, 0, 0, 0, 0, 0, 0, 0, 0\\n0, 0, 0, 0, 0, 0, 0, 0, 0, 0, 0, 0, 0, 0\\n0, 0, 0, 0, 0, 0, 0, 0, 0, 0, 0, 0, 0, 0\\n0, 0, 0, 0, 0, 0, 0, 0, 0, 0, 0, 0, 0, 0\\n0, 0, 0, 0, 0, 0, 0]'),\n",
              " Text(0.7142857142857143, 0.3, 'gini = 0.0\\nsamples = 3\\nvalue = [0, 0, 0, 0, 0, 0, 0, 0, 0, 0, 0, 0, 0, 0\\n0, 0, 0, 0, 0, 0, 0, 0, 0, 0, 0, 0, 0, 0\\n0, 0, 0, 0, 0, 0, 0, 0, 0, 0, 0, 0, 0, 0\\n0, 0, 0, 0, 0, 0, 0, 0, 0, 0, 3, 0, 0, 0\\n0, 0, 0, 0, 0, 0, 0, 0, 0, 0, 0, 0, 0, 0\\n0, 0, 0, 0, 0, 0, 0, 0, 0, 0, 0, 0, 0, 0\\n0, 0, 0, 0, 0, 0, 0, 0, 0, 0, 0, 0, 0, 0\\n0, 0, 0, 0, 0, 0, 0, 0, 0, 0, 0, 0, 0, 0\\n0, 0, 0, 0, 0, 0, 0, 0, 0, 0, 0, 0, 0, 0\\n0, 0, 0, 0, 0, 0, 0]'),\n",
              " Text(0.8571428571428571, 0.5, 'X[6] <= 217.5\\ngini = 0.957\\nsamples = 129\\nvalue = [0, 0, 1, 1, 1, 1, 0, 0, 4, 2, 1, 2, 1, 1\\n13, 10, 1, 4, 1, 1, 4, 5, 1, 6, 4, 14, 0, 5\\n1, 1, 1, 1, 2, 0, 0, 0, 0, 0, 0, 0, 1, 0\\n3, 0, 0, 1, 1, 0, 4, 0, 0, 1, 0, 2, 1, 0\\n0, 0, 3, 1, 1, 1, 2, 0, 1, 0, 2, 2, 0, 1\\n2, 1, 0, 0, 0, 0, 0, 0, 0, 0, 0, 2, 0, 0\\n0, 1, 0, 0, 0, 0, 0, 0, 0, 2, 0, 0, 0, 0\\n0, 0, 0, 0, 0, 0, 0, 0, 0, 0, 2, 0, 0, 0\\n0, 0, 0, 0, 0, 0, 0, 0, 0, 0, 0, 0, 0, 0\\n0, 0, 0, 0, 0, 0, 1]'),\n",
              " Text(0.7857142857142857, 0.3, 'X[6] <= 158.5\\ngini = 0.932\\nsamples = 62\\nvalue = [0, 0, 1, 0, 1, 0, 0, 0, 0, 0, 1, 2, 1, 1\\n1, 10, 1, 4, 1, 0, 4, 5, 1, 6, 1, 3, 0, 5\\n1, 0, 0, 0, 2, 0, 0, 0, 0, 0, 0, 0, 1, 0\\n0, 0, 0, 1, 1, 0, 0, 0, 0, 0, 0, 0, 1, 0\\n0, 0, 0, 0, 1, 0, 0, 0, 1, 0, 2, 0, 0, 0\\n0, 0, 0, 0, 0, 0, 0, 0, 0, 0, 0, 2, 0, 0\\n0, 0, 0, 0, 0, 0, 0, 0, 0, 0, 0, 0, 0, 0\\n0, 0, 0, 0, 0, 0, 0, 0, 0, 0, 0, 0, 0, 0\\n0, 0, 0, 0, 0, 0, 0, 0, 0, 0, 0, 0, 0, 0\\n0, 0, 0, 0, 0, 0, 0]'),\n",
              " Text(0.75, 0.1, 'gini = 0.773\\nsamples = 16\\nvalue = [0, 0, 1, 0, 0, 0, 0, 0, 0, 0, 0, 0, 0, 0\\n0, 0, 1, 0, 1, 0, 0, 5, 0, 0, 1, 0, 0, 5\\n0, 0, 0, 0, 0, 0, 0, 0, 0, 0, 0, 0, 0, 0\\n0, 0, 0, 0, 0, 0, 0, 0, 0, 0, 0, 0, 0, 0\\n0, 0, 0, 0, 0, 0, 0, 0, 0, 0, 2, 0, 0, 0\\n0, 0, 0, 0, 0, 0, 0, 0, 0, 0, 0, 0, 0, 0\\n0, 0, 0, 0, 0, 0, 0, 0, 0, 0, 0, 0, 0, 0\\n0, 0, 0, 0, 0, 0, 0, 0, 0, 0, 0, 0, 0, 0\\n0, 0, 0, 0, 0, 0, 0, 0, 0, 0, 0, 0, 0, 0\\n0, 0, 0, 0, 0, 0, 0]'),\n",
              " Text(0.8214285714285714, 0.1, 'gini = 0.905\\nsamples = 46\\nvalue = [0, 0, 0, 0, 1, 0, 0, 0, 0, 0, 1, 2, 1, 1\\n1, 10, 0, 4, 0, 0, 4, 0, 1, 6, 0, 3, 0, 0\\n1, 0, 0, 0, 2, 0, 0, 0, 0, 0, 0, 0, 1, 0\\n0, 0, 0, 1, 1, 0, 0, 0, 0, 0, 0, 0, 1, 0\\n0, 0, 0, 0, 1, 0, 0, 0, 1, 0, 0, 0, 0, 0\\n0, 0, 0, 0, 0, 0, 0, 0, 0, 0, 0, 2, 0, 0\\n0, 0, 0, 0, 0, 0, 0, 0, 0, 0, 0, 0, 0, 0\\n0, 0, 0, 0, 0, 0, 0, 0, 0, 0, 0, 0, 0, 0\\n0, 0, 0, 0, 0, 0, 0, 0, 0, 0, 0, 0, 0, 0\\n0, 0, 0, 0, 0, 0, 0]'),\n",
              " Text(0.9285714285714286, 0.3, 'X[6] <= 265.0\\ngini = 0.919\\nsamples = 67\\nvalue = [0, 0, 0, 1, 0, 1, 0, 0, 4, 2, 0, 0, 0, 0\\n12, 0, 0, 0, 0, 1, 0, 0, 0, 0, 3, 11, 0, 0\\n0, 1, 1, 1, 0, 0, 0, 0, 0, 0, 0, 0, 0, 0\\n3, 0, 0, 0, 0, 0, 4, 0, 0, 1, 0, 2, 0, 0\\n0, 0, 3, 1, 0, 1, 2, 0, 0, 0, 0, 2, 0, 1\\n2, 1, 0, 0, 0, 0, 0, 0, 0, 0, 0, 0, 0, 0\\n0, 1, 0, 0, 0, 0, 0, 0, 0, 2, 0, 0, 0, 0\\n0, 0, 0, 0, 0, 0, 0, 0, 0, 0, 2, 0, 0, 0\\n0, 0, 0, 0, 0, 0, 0, 0, 0, 0, 0, 0, 0, 0\\n0, 0, 0, 0, 0, 0, 1]'),\n",
              " Text(0.8928571428571429, 0.1, 'gini = 0.804\\nsamples = 28\\nvalue = [0, 0, 0, 1, 0, 0, 0, 0, 2, 0, 0, 0, 0, 0\\n11, 0, 0, 0, 0, 0, 0, 0, 0, 0, 0, 3, 0, 0\\n0, 1, 1, 1, 0, 0, 0, 0, 0, 0, 0, 0, 0, 0\\n0, 0, 0, 0, 0, 0, 1, 0, 0, 0, 0, 2, 0, 0\\n0, 0, 3, 0, 0, 0, 0, 0, 0, 0, 0, 0, 0, 1\\n0, 0, 0, 0, 0, 0, 0, 0, 0, 0, 0, 0, 0, 0\\n0, 0, 0, 0, 0, 0, 0, 0, 0, 0, 0, 0, 0, 0\\n0, 0, 0, 0, 0, 0, 0, 0, 0, 0, 0, 0, 0, 0\\n0, 0, 0, 0, 0, 0, 0, 0, 0, 0, 0, 0, 0, 0\\n0, 0, 0, 0, 0, 0, 1]'),\n",
              " Text(0.9642857142857143, 0.1, 'gini = 0.917\\nsamples = 39\\nvalue = [0, 0, 0, 0, 0, 1, 0, 0, 2, 2, 0, 0, 0, 0\\n1, 0, 0, 0, 0, 1, 0, 0, 0, 0, 3, 8, 0, 0\\n0, 0, 0, 0, 0, 0, 0, 0, 0, 0, 0, 0, 0, 0\\n3, 0, 0, 0, 0, 0, 3, 0, 0, 1, 0, 0, 0, 0\\n0, 0, 0, 1, 0, 1, 2, 0, 0, 0, 0, 2, 0, 0\\n2, 1, 0, 0, 0, 0, 0, 0, 0, 0, 0, 0, 0, 0\\n0, 1, 0, 0, 0, 0, 0, 0, 0, 2, 0, 0, 0, 0\\n0, 0, 0, 0, 0, 0, 0, 0, 0, 0, 2, 0, 0, 0\\n0, 0, 0, 0, 0, 0, 0, 0, 0, 0, 0, 0, 0, 0\\n0, 0, 0, 0, 0, 0, 0]')]"
            ]
          },
          "execution_count": 117,
          "metadata": {},
          "output_type": "execute_result"
        },
        {
          "data": {
            "image/png": "[encoded data removed]",
            "text/plain": [
              "<Figure size 864x576 with 1 Axes>"
            ]
          },
          "metadata": {
            "needs_background": "light"
          },
          "output_type": "display_data"
        }
      ],
      "source": [
        "plt.figure(figsize=(12,8))\n",
        "plot_tree(clf_gini.fit(X_train, y_train)) "
      ]
    },
    {
      "attachments": {},
      "cell_type": "markdown",
      "metadata": {
        "id": "1VP5ztINnetz"
      },
      "source": [
        "## Decision Tree with criterion ENTROPY ##"
      ]
    },
    {
      "cell_type": "code",
      "execution_count": 43,
      "metadata": {
        "colab": {
          "base_uri": "https://localhost:8080/"
        },
        "id": "NiSBAyJGmuzi",
        "outputId": "e3c24c2e-9e6a-4055-abbc-885d2f16e415"
      },
      "outputs": [
        {
          "data": {
            "text/plain": [
              "DecisionTreeClassifier(criterion='entropy', max_depth=4, random_state=0)"
            ]
          },
          "execution_count": 43,
          "metadata": {},
          "output_type": "execute_result"
        }
      ],
      "source": [
        "clf_en = DecisionTreeClassifier(criterion='entropy', max_depth=4, random_state=0)\n",
        "\n",
        "\n",
        "# fit the model\n",
        "clf_en.fit(X_train, y_train)"
      ]
    },
    {
      "cell_type": "code",
      "execution_count": 44,
      "metadata": {
        "colab": {
          "base_uri": "https://localhost:8080/"
        },
        "id": "8sgt4w7on2bl",
        "outputId": "8d468a14-a4ea-4ee7-fe1e-6e600c6f04b6"
      },
      "outputs": [
        {
          "name": "stdout",
          "output_type": "stream",
          "text": [
            "Model accuracy score with criterion entropy: 0.2143\n"
          ]
        }
      ],
      "source": [
        "y_pred_en=clf_en.predict(X_test)\n",
        "\n",
        "print('Model accuracy score with criterion entropy: {0:0.4f}'. format(accuracy_score(y_test, y_pred_en)))"
      ]
    },
    {
      "cell_type": "code",
      "execution_count": 45,
      "metadata": {
        "colab": {
          "base_uri": "https://localhost:8080/"
        },
        "id": "78bBAQeTo2_H",
        "outputId": "a38b0fd7-36df-44aa-ab7b-265c9eee4b58"
      },
      "outputs": [
        {
          "name": "stdout",
          "output_type": "stream",
          "text": [
            "Training-set accuracy score: 0.2842\n"
          ]
        }
      ],
      "source": [
        "y_pred_train_en = clf_en.predict(X_train)\n",
        "print('Training-set accuracy score: {0:0.4f}'. format(accuracy_score(y_train, y_pred_train_en)))"
      ]
    },
    {
      "cell_type": "code",
      "execution_count": 76,
      "metadata": {
        "id": "eS5P3Om_I7dB"
      },
      "outputs": [],
      "source": [
        "def multiple_trees(X_train, X_test , y_train , y_test , criterion_list , max_depth_list , min_sample_split_list):\n",
        "  model_result_list = []\n",
        "  for criterias in criterion_list:\n",
        "    for depth in max_depth_list:\n",
        "      for split in min_sample_split_list:\n",
        "                model = DecisionTreeClassifier(criterion = criterias , max_depth = depth , min_samples_split= split)\n",
        "                model.fit(X_train , y_train)\n",
        "                y_pred = model.predict(X_test)\n",
        "                accuracy = accuracy_score(y_test,y_pred)\n",
        "                # print('accuracy',accuracy)\n",
        "\n",
        "                result = {'criterion': criterias , 'max_depth':depth , 'min_samples_split':split , 'accuracy':accuracy}\n",
        "                model_result_list.append(result)\n",
        "  return model_result_list \n",
        "\n",
        "\n"
      ]
    },
    {
      "cell_type": "code",
      "execution_count": 77,
      "metadata": {
        "colab": {
          "base_uri": "https://localhost:8080/"
        },
        "id": "2XoHRvq2MhUk",
        "outputId": "71afd8a9-2ef4-42b3-c93d-8b66768c180d"
      },
      "outputs": [
        {
          "name": "stdout",
          "output_type": "stream",
          "text": [
            "{'criterion': 'gini', 'max_depth': 1, 'min_samples_split': 50, 'accuracy': 0.03968253968253968}\n",
            "{'criterion': 'gini', 'max_depth': 1, 'min_samples_split': 100, 'accuracy': 0.03968253968253968}\n",
            "{'criterion': 'gini', 'max_depth': 1, 'min_samples_split': 200, 'accuracy': 0.03968253968253968}\n",
            "{'criterion': 'gini', 'max_depth': 2, 'min_samples_split': 50, 'accuracy': 0.07142857142857142}\n",
            "{'criterion': 'gini', 'max_depth': 2, 'min_samples_split': 100, 'accuracy': 0.07142857142857142}\n",
            "{'criterion': 'gini', 'max_depth': 2, 'min_samples_split': 200, 'accuracy': 0.03968253968253968}\n",
            "{'criterion': 'gini', 'max_depth': 3, 'min_samples_split': 50, 'accuracy': 0.1349206349206349}\n",
            "{'criterion': 'gini', 'max_depth': 3, 'min_samples_split': 100, 'accuracy': 0.1111111111111111}\n",
            "{'criterion': 'gini', 'max_depth': 3, 'min_samples_split': 200, 'accuracy': 0.03968253968253968}\n",
            "{'criterion': 'gini', 'max_depth': 4, 'min_samples_split': 50, 'accuracy': 0.1349206349206349}\n",
            "{'criterion': 'gini', 'max_depth': 4, 'min_samples_split': 100, 'accuracy': 0.1111111111111111}\n",
            "{'criterion': 'gini', 'max_depth': 4, 'min_samples_split': 200, 'accuracy': 0.03968253968253968}\n",
            "{'criterion': 'gini', 'max_depth': 5, 'min_samples_split': 50, 'accuracy': 0.1349206349206349}\n",
            "{'criterion': 'gini', 'max_depth': 5, 'min_samples_split': 100, 'accuracy': 0.1111111111111111}\n",
            "{'criterion': 'gini', 'max_depth': 5, 'min_samples_split': 200, 'accuracy': 0.03968253968253968}\n",
            "{'criterion': 'gini', 'max_depth': 6, 'min_samples_split': 50, 'accuracy': 0.1349206349206349}\n",
            "{'criterion': 'gini', 'max_depth': 6, 'min_samples_split': 100, 'accuracy': 0.1111111111111111}\n",
            "{'criterion': 'gini', 'max_depth': 6, 'min_samples_split': 200, 'accuracy': 0.03968253968253968}\n",
            "{'criterion': 'gini', 'max_depth': 7, 'min_samples_split': 50, 'accuracy': 0.1349206349206349}\n",
            "{'criterion': 'gini', 'max_depth': 7, 'min_samples_split': 100, 'accuracy': 0.1111111111111111}\n",
            "{'criterion': 'gini', 'max_depth': 7, 'min_samples_split': 200, 'accuracy': 0.03968253968253968}\n",
            "{'criterion': 'entropy', 'max_depth': 1, 'min_samples_split': 50, 'accuracy': 0.03968253968253968}\n",
            "{'criterion': 'entropy', 'max_depth': 1, 'min_samples_split': 100, 'accuracy': 0.03968253968253968}\n",
            "{'criterion': 'entropy', 'max_depth': 1, 'min_samples_split': 200, 'accuracy': 0.03968253968253968}\n",
            "{'criterion': 'entropy', 'max_depth': 2, 'min_samples_split': 50, 'accuracy': 0.09523809523809523}\n",
            "{'criterion': 'entropy', 'max_depth': 2, 'min_samples_split': 100, 'accuracy': 0.09523809523809523}\n",
            "{'criterion': 'entropy', 'max_depth': 2, 'min_samples_split': 200, 'accuracy': 0.03968253968253968}\n",
            "{'criterion': 'entropy', 'max_depth': 3, 'min_samples_split': 50, 'accuracy': 0.14285714285714285}\n",
            "{'criterion': 'entropy', 'max_depth': 3, 'min_samples_split': 100, 'accuracy': 0.09523809523809523}\n",
            "{'criterion': 'entropy', 'max_depth': 3, 'min_samples_split': 200, 'accuracy': 0.03968253968253968}\n",
            "{'criterion': 'entropy', 'max_depth': 4, 'min_samples_split': 50, 'accuracy': 0.14285714285714285}\n",
            "{'criterion': 'entropy', 'max_depth': 4, 'min_samples_split': 100, 'accuracy': 0.09523809523809523}\n",
            "{'criterion': 'entropy', 'max_depth': 4, 'min_samples_split': 200, 'accuracy': 0.03968253968253968}\n",
            "{'criterion': 'entropy', 'max_depth': 5, 'min_samples_split': 50, 'accuracy': 0.14285714285714285}\n",
            "{'criterion': 'entropy', 'max_depth': 5, 'min_samples_split': 100, 'accuracy': 0.09523809523809523}\n",
            "{'criterion': 'entropy', 'max_depth': 5, 'min_samples_split': 200, 'accuracy': 0.03968253968253968}\n",
            "{'criterion': 'entropy', 'max_depth': 6, 'min_samples_split': 50, 'accuracy': 0.14285714285714285}\n",
            "{'criterion': 'entropy', 'max_depth': 6, 'min_samples_split': 100, 'accuracy': 0.09523809523809523}\n",
            "{'criterion': 'entropy', 'max_depth': 6, 'min_samples_split': 200, 'accuracy': 0.03968253968253968}\n",
            "{'criterion': 'entropy', 'max_depth': 7, 'min_samples_split': 50, 'accuracy': 0.14285714285714285}\n",
            "{'criterion': 'entropy', 'max_depth': 7, 'min_samples_split': 100, 'accuracy': 0.09523809523809523}\n",
            "{'criterion': 'entropy', 'max_depth': 7, 'min_samples_split': 200, 'accuracy': 0.03968253968253968}\n",
            "The model with best accuracy is {'criterion': 'entropy', 'max_depth': 3, 'min_samples_split': 50, 'accuracy': 0.14285714285714285}\n"
          ]
        }
      ],
      "source": [
        "results = multiple_trees(X_train, X_test , y_train , y_test , ['gini' , 'entropy'],[1,2,3,4,5,6,7],[50,100,200])\n",
        "max_output = []\n",
        "max_accuracy = 0\n",
        "for result in results:\n",
        "  print(result)\n",
        "\n",
        "  if result['accuracy'] > max_accuracy:\n",
        "    max_accuracy = result['accuracy']\n",
        "    max_output = result\n",
        "\n",
        "print(f\"The model with best accuracy is {max_output}\")"
      ]
    }
  ],
  "metadata": {
    "colab": {
      "provenance": []
    },
    "kernelspec": {
      "display_name": "Python 3",
      "name": "python3"
    },
    "language_info": {
      "name": "python"
    }
  },
  "nbformat": 4,
  "nbformat_minor": 0
}
